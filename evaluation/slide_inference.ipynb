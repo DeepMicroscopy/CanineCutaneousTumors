{
 "cells": [
  {
   "cell_type": "markdown",
   "metadata": {
    "jupyter": {
     "outputs_hidden": true
    }
   },
   "source": [
    "# Slide Inference"
   ]
  },
  {
   "cell_type": "markdown",
   "metadata": {},
   "source": [
    "## Import Packages"
   ]
  },
  {
   "cell_type": "code",
   "execution_count": 1,
   "metadata": {},
   "outputs": [],
   "source": [
    "from evaluation_helper import *\n",
    "import sys\n",
    "sys.path.insert(0, '../segmentation')"
   ]
  },
  {
   "cell_type": "markdown",
   "metadata": {},
   "source": [
    "## Define model input parameters"
   ]
  },
  {
   "cell_type": "code",
   "execution_count": 2,
   "metadata": {},
   "outputs": [],
   "source": [
    "device = torch.device('cuda' if torch.cuda.is_available() else 'cpu')\n",
    "segmentation_patch_size = 512\n",
    "classification_patch_size = 1024\n",
    "batch_size = 2\n",
    "segmentation_level = 2\n",
    "classification_level = 0"
   ]
  },
  {
   "cell_type": "markdown",
   "metadata": {},
   "source": [
    "## Define paths of slide folder and annotation JSON"
   ]
  },
  {
   "cell_type": "code",
   "execution_count": 3,
   "metadata": {},
   "outputs": [],
   "source": [
    "target_folder = Path(\"E:/Slides/Canine Skin Tumors\")\n",
    "annotation_file = \"E:/Slides/Canine Skin Tumors/skin_tumors.json\""
   ]
  },
  {
   "cell_type": "markdown",
   "metadata": {},
   "source": [
    "## Define dict to match annotation classes to classes used for training"
   ]
  },
  {
   "cell_type": "code",
   "execution_count": 4,
   "metadata": {},
   "outputs": [],
   "source": [
    "label_dict = {'Bg': 0, 'Bone': -1, 'Cartilage': -1, 'Dermis': 1, 'Epidermis': 2, 'Subcutis': 3, 'Inflamm/Necrosis': 4,'Melanoma': 5, 'Plasmacytoma': 5,'Mast Cell Tumor': 5, 'PNST': 5, 'SCC': 5, 'Trichoblastoma': 5, 'Histiocytoma': 5}"
   ]
  },
  {
   "cell_type": "markdown",
   "metadata": {},
   "source": [
    "## Load slide in custom SlideContainer format"
   ]
  },
  {
   "cell_type": "code",
   "execution_count": 5,
   "metadata": {},
   "outputs": [],
   "source": [
    "slide = SlideContainer(Path(str(target_folder) + \"/PNST/1654_16a_PNST_MF.svs\"),annotation_file, segmentation_level, segmentation_patch_size, segmentation_patch_size, dataset_type='segmentation', label_dict=label_dict)"
   ]
  },
  {
   "cell_type": "markdown",
   "metadata": {},
   "source": [
    "## Load learners"
   ]
  },
  {
   "cell_type": "code",
   "execution_count": 6,
   "metadata": {},
   "outputs": [],
   "source": [
    "segmentation_learner = load_learner(Path(\"../models\"), \"ResNet18_512_2_sdata.pkl\")\n",
    "classification_learner = load_learner(Path(\"../models\"), \"xception_0_sdata.pkl\")"
   ]
  },
  {
   "cell_type": "markdown",
   "metadata": {},
   "source": [
    "## Slide inference"
   ]
  },
  {
   "cell_type": "code",
   "execution_count": 7,
   "metadata": {},
   "outputs": [],
   "source": [
    "wsi_inference(slide,device,segmentation_patch_size,classification_patch_size,segmentation_level,classification_level, batch_size, segmentation_learner,classification_learner)"
   ]
  },
  {
   "cell_type": "markdown",
   "metadata": {},
   "source": [
    "## Confusion Matrix"
   ]
  },
  {
   "cell_type": "code",
   "execution_count": 8,
   "metadata": {},
   "outputs": [],
   "source": [
    "cm = slide_cm_matrix(slide, segmentation_learner.data.c)"
   ]
  },
  {
   "cell_type": "markdown",
   "metadata": {},
   "source": [
    "## Segmentation Jaccard score"
   ]
  },
  {
   "cell_type": "code",
   "execution_count": 9,
   "metadata": {},
   "outputs": [
    {
     "name": "stdout",
     "output_type": "stream",
     "text": [
      "IoUs:  {'Bg': 0.9614, 'Dermis': 0.7214, 'Epidermis': 0.7731, 'Subcutis': 0.6407, 'Inflamm/Necrosis': 0.7842, 'Tumor': 0.9503} Mean:  0.8051762152594036\n",
      "Frequency-Weighted IoU:  0.9266\n"
     ]
    }
   ],
   "source": [
    "jaccard_score(cm, segmentation_learner.data.classes)"
   ]
  },
  {
   "cell_type": "markdown",
   "metadata": {},
   "source": [
    "## Classification accuracy"
   ]
  },
  {
   "cell_type": "code",
   "execution_count": 10,
   "metadata": {},
   "outputs": [
    {
     "name": "stdout",
     "output_type": "stream",
     "text": [
      "Classification Accuracies:  {'Melanoma': 0.0003, 'PNST': 0.9966, 'SCC': 0.0028, 'Trichoblastoma': 0.0003}\n",
      "Slide Classification:  PNST\n"
     ]
    }
   ],
   "source": [
    "slide_accuracy(slide, classification_learner.data.classes)"
   ]
  }
 ],
 "metadata": {
  "kernelspec": {
   "display_name": "Python 3",
   "language": "python",
   "name": "python3"
  },
  "language_info": {
   "codemirror_mode": {
    "name": "ipython",
    "version": 3
   },
   "file_extension": ".py",
   "mimetype": "text/x-python",
   "name": "python",
   "nbconvert_exporter": "python",
   "pygments_lexer": "ipython3",
   "version": "3.7.3"
  }
 },
 "nbformat": 4,
 "nbformat_minor": 4
}
