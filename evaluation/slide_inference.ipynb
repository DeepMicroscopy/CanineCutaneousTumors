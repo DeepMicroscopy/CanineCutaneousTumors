{
 "cells": [
  {
   "cell_type": "markdown",
   "metadata": {
    "jupyter": {
     "outputs_hidden": true
    }
   },
   "source": [
    "# Slide Inference"
   ]
  },
  {
   "cell_type": "markdown",
   "metadata": {},
   "source": [
    "## Import Packages"
   ]
  },
  {
   "cell_type": "code",
   "execution_count": 1,
   "metadata": {},
   "outputs": [],
   "source": [
    "import sys\n",
    "sys.path.insert(0, '../segmentation')\n",
    "from evaluation_helper import *\n",
    "from slide.slide_container import SlideContainer\n",
    "import h5py\n",
    "import time"
   ]
  },
  {
   "cell_type": "markdown",
   "metadata": {},
   "source": [
    "## Define model input parameters"
   ]
  },
  {
   "cell_type": "code",
   "execution_count": 2,
   "metadata": {},
   "outputs": [],
   "source": [
    "device = torch.device('cuda' if torch.cuda.is_available() else 'cpu')\n",
    "segmentation_patch_size = 512\n",
    "classification_patch_size = 1024\n",
    "batch_size = 8\n",
    "segmentation_level = 2\n",
    "classification_level = 0"
   ]
  },
  {
   "cell_type": "markdown",
   "metadata": {},
   "source": [
    "## Define paths of slide folder and annotation JSON"
   ]
  },
  {
   "cell_type": "code",
   "execution_count": 3,
   "metadata": {},
   "outputs": [],
   "source": [
    "target_folder = Path(\"../catch\")\n",
    "annotation_file = \"../CATCH.json\""
   ]
  },
  {
   "cell_type": "markdown",
   "metadata": {},
   "source": [
    "## Define dicts to match annotation classes to classes used for training"
   ]
  },
  {
   "cell_type": "code",
   "execution_count": 4,
   "metadata": {},
   "outputs": [],
   "source": [
    "segmentation_label_dict = {'Bg': 0, 'Bone': -1, 'Cartilage': -1, 'Dermis': 1, 'Epidermis': 2, 'Subcutis': 3,\n",
    "                           'Inflamm/Necrosis': 4, 'Melanoma': 5, 'Plasmacytoma': 5, 'Mast Cell Tumor': 5, 'PNST': 5,\n",
    "                           'SCC': 5, 'Trichoblastoma': 5, 'Histiocytoma': 5}\n",
    "\n",
    "classification_label_dict = {'Bg': -1, 'Bone': -1, 'Cartilage': -1, 'Dermis': 0, 'Epidermis': 0, 'Subcutis': 0,\n",
    "                             'Inflamm/Necrosis': 0, 'Melanoma': 1, 'Plasmacytoma': 2, 'Mast Cell Tumor': 3, 'PNST': 4,\n",
    "                             'SCC': 5, 'Trichoblastoma': 6, 'Histiocytoma': 7}"
   ]
  },
  {
   "cell_type": "markdown",
   "metadata": {},
   "source": [
    "## Load slide in custom SlideContainer format"
   ]
  },
  {
   "cell_type": "code",
   "execution_count": 5,
   "metadata": {},
   "outputs": [],
   "source": [
    "segmentation_container = SlideContainer(Path(str(target_folder) + \"/PNST/PNST_09_1.svs\"), annotation_file, segmentation_level,segmentation_patch_size, \n",
    "                                             segmentation_patch_size, dataset_type=\"segmentation\", label_dict=segmentation_label_dict)\n",
    "classification_container = SlideContainer(Path(str(target_folder) + \"/PNST/PNST_09_1.svs\"), annotation_file, classification_level, classification_patch_size, \n",
    "                                               classification_patch_size,dataset_type=\"classification\",label_dict=classification_label_dict)"
   ]
  },
  {
   "cell_type": "markdown",
   "metadata": {},
   "source": [
    "## Load learners"
   ]
  },
  {
   "cell_type": "code",
   "execution_count": 6,
   "metadata": {},
   "outputs": [],
   "source": [
    "segmentation_learner = load_learner(Path(\"../models\"), \"UNet_resnet18_512_2_sdata.pkl\")\n",
    "classification_learner = load_learner(Path(\"../models\"), \"efficientnet_1024_0_sdata.pkl\")"
   ]
  },
  {
   "cell_type": "markdown",
   "metadata": {},
   "source": [
    "## Slide inference"
   ]
  },
  {
   "cell_type": "code",
   "execution_count": 7,
   "metadata": {},
   "outputs": [
    {
     "name": "stderr",
     "output_type": "stream",
     "text": [
      "Processing PNST_09_1: 100%|████████████████████████████████████████████████████████████| 21/21 [01:19<00:00,  3.79s/it]\n",
      "Processing PNST_09_1:   0%|                                                                    | 0/737 [00:00<?, ?it/s]"
     ]
    },
    {
     "name": "stdout",
     "output_type": "stream",
     "text": [
      "Segmentation: --- 79.74933767318726 seconds ---\n"
     ]
    },
    {
     "name": "stderr",
     "output_type": "stream",
     "text": [
      "Processing PNST_09_1: 100%|██████████████████████████████████████████████████████████| 737/737 [15:52<00:00,  1.29s/it]"
     ]
    },
    {
     "name": "stdout",
     "output_type": "stream",
     "text": [
      "Classification: --- 952.2370300292969 seconds ---\n"
     ]
    },
    {
     "name": "stderr",
     "output_type": "stream",
     "text": [
      "\n"
     ]
    }
   ],
   "source": [
    "store = h5py.File(\"{}.hdf5\".format(Path(segmentation_container.slide._filename).stem), \"a\")\n",
    "start_time = time.time()\n",
    "classification_indices = segmentation_inference(segmentation_container.slide, store, segmentation_patch_size, segmentation_level, batch_size, segmentation_learner, overlap_factor=0.5) \n",
    "print(\"Segmentation: --- %s seconds ---\" % (time.time() - start_time))\n",
    "start_time = time.time()\n",
    "classification_inference(classification_container.slide, store, classification_patch_size, classification_level, batch_size, classification_learner, classification_indices) \n",
    "print(\"Classification: --- %s seconds ---\" % (time.time() - start_time))"
   ]
  },
  {
   "cell_type": "markdown",
   "metadata": {},
   "source": [
    "## Read inference masks"
   ]
  },
  {
   "cell_type": "code",
   "execution_count": 8,
   "metadata": {},
   "outputs": [],
   "source": [
    "store = h5py.File(\"{}.hdf5\".format(Path(segmentation_container.slide._filename).stem), \"r\")"
   ]
  },
  {
   "cell_type": "markdown",
   "metadata": {},
   "source": [
    "## Segmentation Jaccard score"
   ]
  },
  {
   "cell_type": "code",
   "execution_count": 9,
   "metadata": {},
   "outputs": [
    {
     "name": "stderr",
     "output_type": "stream",
     "text": [
      "100%|██████████████████████████████████████████████████████████████████████████████████| 13/13 [02:30<00:00, 11.57s/it]"
     ]
    },
    {
     "name": "stdout",
     "output_type": "stream",
     "text": [
      "IoUs:  {'Bg': 0.9798, 'Dermis': 0.5998, 'Epidermis': 0.5536, 'Subcutis': 0.2903, 'Inflamm/Necrosis': 0.2388, 'Tumor': 0.932} Mean:  0.5990551299606123\n",
      "Frequency-Weighted IoU:  0.9193\n"
     ]
    },
    {
     "name": "stderr",
     "output_type": "stream",
     "text": [
      "\n"
     ]
    }
   ],
   "source": [
    "cm_matrix_s = segmentation_cm_matrix(segmentation_container, store, segmentation_learner.data.c)\n",
    "slide_jaccard_score(cm_matrix_s, segmentation_learner.data.classes)"
   ]
  },
  {
   "cell_type": "markdown",
   "metadata": {},
   "source": [
    "## Classification evaluation"
   ]
  },
  {
   "cell_type": "code",
   "execution_count": 10,
   "metadata": {},
   "outputs": [
    {
     "name": "stderr",
     "output_type": "stream",
     "text": [
      "100%|██████████████████████████████████████████████████████████████████████████████████| 98/98 [06:10<00:00,  3.78s/it]"
     ]
    },
    {
     "name": "stdout",
     "output_type": "stream",
     "text": [
      "Slide Label:  PNST\n",
      "Slide Classification:  PNST\n",
      "Tumor Recall:  0.9692\n"
     ]
    },
    {
     "name": "stderr",
     "output_type": "stream",
     "text": [
      "\n"
     ]
    }
   ],
   "source": [
    "cm_matrix_c = classification_cm_matrix(classification_container, store, classification_learner.data.c)\n",
    "slide_tumor_recall(cm_matrix_c, classification_learner.data.classes)\n",
    "store.close()"
   ]
  }
 ],
 "metadata": {
  "kernelspec": {
   "display_name": "Python 3",
   "language": "python",
   "name": "python3"
  },
  "language_info": {
   "codemirror_mode": {
    "name": "ipython",
    "version": 3
   },
   "file_extension": ".py",
   "mimetype": "text/x-python",
   "name": "python",
   "nbconvert_exporter": "python",
   "pygments_lexer": "ipython3",
   "version": "3.7.3"
  }
 },
 "nbformat": 4,
 "nbformat_minor": 4
}
